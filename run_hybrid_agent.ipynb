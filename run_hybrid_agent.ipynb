{
  "cells": [
    {
      "cell_type": "markdown",
      "metadata": {},
      "source": [
        "## Hybrid Agent Interactive Runner\n",
        "\n",
        "A concise notebook to interactively test the hybrid agent workflow.\n",
        "\n",
        "- Configure paths and model\n",
        "- Initialize `HybridAgent`\n",
        "- Run a single question\n",
        "- (Optional) Run a small batch from a JSONL file\n",
        "\n",
        "Keep outputs minimal per project constraints.\n"
      ]
    },
    {
      "cell_type": "code",
      "execution_count": 1,
      "metadata": {},
      "outputs": [
        {
          "name": "stdout",
          "output_type": "stream",
          "text": [
            "Python: 3.11.13\n",
            "Platform: Linux-6.11.0-29-generic-x86_64-with-glibc2.39\n",
            "Root exists: True\n",
            "DB exists: True\n",
            "Docs exists: True\n",
            "Sample JSONL exists: True\n"
          ]
        }
      ],
      "source": [
        "# Setup\n",
        "from pathlib import Path\n",
        "import sys, platform\n",
        "\n",
        "# Absolute paths\n",
        "ROOT = Path('/home/mohammed/Desktop/tech_projects/northwind_ai_workflow')\n",
        "DB_PATH = ROOT / 'data' / 'northwind.sqlite'\n",
        "DOCS_DIR = ROOT / 'docs'\n",
        "SAMPLE_JSONL = ROOT / 'sample_questions_hybrid_eval.jsonl'\n",
        "\n",
        "print('Python:', sys.version.split()[0])\n",
        "print('Platform:', platform.platform())\n",
        "print('Root exists:', ROOT.exists())\n",
        "print('DB exists:', DB_PATH.exists())\n",
        "print('Docs exists:', DOCS_DIR.exists())\n",
        "print('Sample JSONL exists:', SAMPLE_JSONL.exists())\n",
        "\n",
        "# Ensure project root on path\n",
        "if str(ROOT) not in sys.path:\n",
        "    sys.path.insert(0, str(ROOT))\n"
      ]
    },
    {
      "cell_type": "code",
      "execution_count": 2,
      "metadata": {},
      "outputs": [
        {
          "name": "stdout",
          "output_type": "stream",
          "text": [
            "Error loading schema: near \"Order\": syntax error\n",
            "Agent ready.\n"
          ]
        }
      ],
      "source": [
        "# Initialize HybridAgent\n",
        "import logging\n",
        "from agent.graph_hybrid import HybridAgent\n",
        "\n",
        "# Minimal logging\n",
        "logging.basicConfig(level=logging.INFO, format='%(levelname)s - %(message)s')\n",
        "\n",
        "MODEL_NAME = 'phi3.5:3.8b-mini-instruct-q4_K_M'  # Change if needed\n",
        "\n",
        "agent = HybridAgent(\n",
        "    db_path=str(DB_PATH),\n",
        "    docs_dir=str(DOCS_DIR),\n",
        "    model_name=MODEL_NAME,\n",
        ")\n",
        "\n",
        "print('Agent ready.')\n"
      ]
    },
    {
      "cell_type": "code",
      "execution_count": 3,
      "metadata": {},
      "outputs": [],
      "source": [
        "# Helper: run one question\n",
        "from typing import Any, Dict\n",
        "\n",
        "def run_one(question: str, format_hint: str = \"\", qid: str = \"ad_hoc\") -> Dict[str, Any]:\n",
        "    res = agent.process_question(question=question, format_hint=format_hint, question_id=qid)\n",
        "    final_answer = res.get('final_answer')\n",
        "    print('ID:', res.get('id'))\n",
        "    print('Answer:', final_answer)\n",
        "    print('Confidence:', res.get('confidence'))\n",
        "    print('SQL rows:', len(res.get('sql', '')) > 0, '| Citations:', res.get('citations'))\n",
        "    return res\n"
      ]
    },
    {
      "cell_type": "code",
      "execution_count": 4,
      "metadata": {},
      "outputs": [
        {
          "name": "stderr",
          "output_type": "stream",
          "text": [
            "2025/09/21 23:45:42 WARNING dspy.primitives.module: Calling module.forward(...) on SchemaPruner directly is discouraged. Please use module(...) instead.\n"
          ]
        },
        {
          "name": "stdout",
          "output_type": "stream",
          "text": [
            "Graph compiled\n",
            "Graph invoke start\n",
            "Node start: RequirementParser\n",
            "Node end: RequirementParser\n",
            "Node start: Router\n",
            "Node end: Router -> approach=sql\n",
            "Node start: SQLGraphPruner\n",
            "Node end: SQLGraphPruner\n",
            "Node start: SQLGenerator\n",
            "Node end: SQLGenerator\n",
            "Node start: SQLExecutor\n",
            "SQL Query normalized from:\n",
            "SELECT SUM(OrderDetails.Quantity * Products.Price) AS TotalRevenue FROM Order Details INNER JOIN Orders ON Order Details.OrderID = Orders.OrderID INNER JOIN Products ON Order Details.ProductID = Products.ProductID WHERE strftForms('Orders'.\"OrderDate\", 'YYYY') = 2013 GROUP BY YEAR(strFormats('Orders'.\"OrderDate\", '%Y'))\n",
            "to:\n",
            "SELECT SUM(\"Order Details\".Quantity * Products.Price) AS TotalRevenue FROM Order Details INNER JOIN Orders ON Order Details.OrderID = Orders.OrderID INNER JOIN Products ON Order Details.ProductID = Products.ProductID WHERE strftime('Orders'.\"OrderDate\", '%Y') = '2013')\n",
            "Node end: SQLExecutor -> success=False, rows=0\n",
            "Node start: Assembler\n",
            "Node end: Assembler\n",
            "Node start: Synthesizer\n",
            "WARNING: Empty sql_results. SQL success: False, SQL error: Validation failed: near \"Order\": syntax error\n",
            "SQL execution failed: Validation failed: near \"Order\": syntax error\n",
            "Node end: Synthesizer\n",
            "Node start: Repair\n",
            "Node end: Repair -> type=sql_error\n",
            "Node start: SQLGenerator\n",
            "Node end: SQLGenerator\n",
            "Node start: SQLExecutor\n",
            "SQL Query normalized from:\n",
            "SELECT SUM(OrderDetails.Quantity * Products.Price) AS TotalRevenue FROM \"Order Details\" INNER JOIN \"Orders\" ON \"Order Details\".\"OrderID\" = \"Orders\".\"OrderID\" INNER JOIN \"Products\" ON \"Order Details\".\"ProductID\" = \"Products\".\"ProductID\" WHERE strftime('%Y', Orders.\"OrderDate\") = '2013' GROUP BY YEAR(strftime('%Y', Orders.\"OrderDate\"))\n",
            "to:\n",
            "SELECT SUM(\"Order Details\".Quantity * Products.Price) AS TotalRevenue FROM \"Order Details\" INNER JOIN \"Orders\" ON \"Order Details\".\"OrderID\" = \"Orders\".\"OrderID\" INNER JOIN \"Products\" ON \"Order Details\".\"ProductID\" = \"Products\".\"ProductID\" WHERE strftime('%Y', Orders.\"OrderDate\") = '2013')\n",
            "Node end: SQLExecutor -> success=False, rows=0\n",
            "Node start: Assembler\n",
            "Node end: Assembler\n",
            "Node start: Synthesizer\n",
            "WARNING: Empty sql_results. SQL success: False, SQL error: Validation failed: near \")\": syntax error\n",
            "SQL execution failed: Validation failed: near \")\": syntax error\n",
            "Node end: Synthesizer\n",
            "Node start: Repair\n",
            "Node end: Repair -> type=sql_error\n",
            "Node start: SQLGenerator\n",
            "Node end: SQLGenerator\n",
            "Node start: SQLExecutor\n",
            "SQL Query normalized from:\n",
            "SELECT SUM(OrderDetails.Quantity * Products.Price) AS TotalRevenue FROM \"Order Details\" INNER JOIN \"Orders\" ON \"Order Details\".\"OrderID\" = \"Orders\".\"OrderID\" INNER JOIN \"Products\" ON \"Order Details\".\"ProductID\" = \"Products\".\"ProductID\" WHERE strftime('%Y', Orders.\"OrderDate\") = '2013' GROUP BY YEAR(strftime('%Y', Orders.\"OrderDate\"))\n",
            "to:\n",
            "SELECT SUM(\"Order Details\".Quantity * Products.Price) AS TotalRevenue FROM \"Order Details\" INNER JOIN \"Orders\" ON \"Order Details\".\"OrderID\" = \"Orders\".\"OrderID\" INNER JOIN \"Products\" ON \"Order Details\".\"ProductID\" = \"Products\".\"ProductID\" WHERE strftime('%Y', Orders.\"OrderDate\") = '2013')\n",
            "Node end: SQLExecutor -> success=False, rows=0\n",
            "Node start: Assembler\n",
            "Node end: Assembler\n",
            "Node start: Synthesizer\n",
            "WARNING: Empty sql_results. SQL success: False, SQL error: Validation failed: near \")\": syntax error\n",
            "SQL execution failed: Validation failed: near \")\": syntax error\n",
            "Node end: Synthesizer\n",
            "Graph invoke end\n",
            "ID: smoke_2013_revenue\n",
            "Answer: None\n",
            "Confidence: 0.8\n",
            "SQL rows: True | Citations: []\n"
          ]
        }
      ],
      "source": [
        "# Smoke test: simple SQL question\n",
        "_ = run_one(\n",
        "    question=\"What is the total revenue in 2013?\",\n",
        "    format_hint=\"float\",\n",
        "    qid=\"smoke_2013_revenue\",\n",
        ")\n"
      ]
    },
    {
      "cell_type": "code",
      "execution_count": 5,
      "metadata": {},
      "outputs": [],
      "source": [
        "# Batch runner: run first N questions from JSONL\n",
        "import json\n",
        "from typing import List, Dict, Any\n",
        "\n",
        "def load_jsonl(path: Path) -> List[Dict[str, Any]]:\n",
        "    items = []\n",
        "    if not path.exists():\n",
        "        print('JSONL not found:', path)\n",
        "        return items\n",
        "    with open(path, 'r', encoding='utf-8') as f:\n",
        "        for line in f:\n",
        "            line = line.strip()\n",
        "            if not line:\n",
        "                continue\n",
        "            try:\n",
        "                items.append(json.loads(line))\n",
        "            except Exception:\n",
        "                pass\n",
        "    return items\n",
        "\n",
        "\n",
        "def run_batch(jsonl_path: Path, limit: int = 5) -> List[Dict[str, Any]]:\n",
        "    qs = load_jsonl(jsonl_path)[:limit]\n",
        "    outs = []\n",
        "    ok = 0\n",
        "    for i, q in enumerate(qs, 1):\n",
        "        qid = q.get('id', f'q{i}')\n",
        "        fmt = q.get('format_hint', '')\n",
        "        res = agent.process_question(q.get('question', ''), fmt, qid)\n",
        "        valid = res.get('final_answer') is not None\n",
        "        ok += 1 if valid else 0\n",
        "        outs.append({\n",
        "            'id': qid,\n",
        "            'final_answer': res.get('final_answer'),\n",
        "            'confidence': res.get('confidence'),\n",
        "            'sql': res.get('sql'),\n",
        "            'explanation': res.get('explanation'),\n",
        "            'citations': res.get('citations'),\n",
        "        })\n",
        "    print(f'Done: {len(qs)} | Success: {ok}')\n",
        "    return outs\n",
        "\n",
        "# Example (uncomment to run):\n",
        "# results = run_batch(SAMPLE_JSONL, limit=3)\n",
        "# results\n"
      ]
    }
  ],
  "metadata": {
    "kernelspec": {
      "display_name": "northwind_ai",
      "language": "python",
      "name": "python3"
    },
    "language_info": {
      "codemirror_mode": {
        "name": "ipython",
        "version": 3
      },
      "file_extension": ".py",
      "mimetype": "text/x-python",
      "name": "python",
      "nbconvert_exporter": "python",
      "pygments_lexer": "ipython3",
      "version": "3.11.13"
    }
  },
  "nbformat": 4,
  "nbformat_minor": 2
}
